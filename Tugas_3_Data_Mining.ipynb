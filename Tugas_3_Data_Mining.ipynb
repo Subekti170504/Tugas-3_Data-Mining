{
  "nbformat": 4,
  "nbformat_minor": 0,
  "metadata": {
    "colab": {
      "provenance": []
    },
    "kernelspec": {
      "name": "python3",
      "display_name": "Python 3"
    },
    "language_info": {
      "name": "python"
    }
  },
  "cells": [
    {
      "cell_type": "markdown",
      "source": [
        "Importing The Libraries"
      ],
      "metadata": {
        "id": "E1Wr_XR_sef7"
      }
    },
    {
      "cell_type": "code",
      "execution_count": 1,
      "metadata": {
        "id": "hdDAbjdasMYu"
      },
      "outputs": [],
      "source": [
        "import numpy as np\n",
        "import matplotlib.pyplot as plt\n",
        "import pandas as pd"
      ]
    },
    {
      "cell_type": "markdown",
      "source": [
        "Importing The Dataset"
      ],
      "metadata": {
        "id": "LCe6oLMXsuoo"
      }
    },
    {
      "cell_type": "code",
      "source": [
        "dataset = pd.read_csv('customer.csv')\n",
        "x = dataset.iloc[:, :-1].values\n",
        "y = dataset.iloc[:, -1].values"
      ],
      "metadata": {
        "id": "mPGXYf-ls7fe"
      },
      "execution_count": 2,
      "outputs": []
    },
    {
      "cell_type": "code",
      "source": [
        "print(x)"
      ],
      "metadata": {
        "colab": {
          "base_uri": "https://localhost:8080/"
        },
        "id": "KE05gZqGs-0H",
        "outputId": "d1d9a71b-172e-406c-cbd6-e788a9682301"
      },
      "execution_count": 3,
      "outputs": [
        {
          "output_type": "stream",
          "name": "stdout",
          "text": [
            "[[1 56 'Pria' ... 'No' 'One year' 'Credit card (automatic)']\n",
            " [2 69 'Pria' ... 'Fiber optic' 'One year' 'Electronic check']\n",
            " [3 46 'Pria' ... 'Fiber optic' 'One year' 'Bank transfer (automatic)']\n",
            " ...\n",
            " [998 62 'Wanita' ... 'DSL' 'One year' 'Bank transfer (automatic)']\n",
            " [999 35 'Pria' ... 'DSL' 'Month-to-month' 'Bank transfer (automatic)']\n",
            " [1000 55 'Pria' ... 'No' 'One year' 'Mailed check']]\n"
          ]
        }
      ]
    },
    {
      "cell_type": "code",
      "source": [
        "print(y)"
      ],
      "metadata": {
        "colab": {
          "base_uri": "https://localhost:8080/"
        },
        "id": "-rUX4hs5tEI0",
        "outputId": "b40bc6b4-4139-4cef-f1c4-f11e3e78dd10"
      },
      "execution_count": 4,
      "outputs": [
        {
          "output_type": "stream",
          "name": "stdout",
          "text": [
            "['Tidak' 'Tidak' 'Ya' 'Tidak' 'Tidak' 'Tidak' 'Tidak' 'Ya' 'Tidak' 'Tidak'\n",
            " 'Tidak' 'Ya' 'Ya' 'Ya' 'Tidak' 'Tidak' 'Tidak' 'Tidak' 'Tidak' 'Tidak'\n",
            " 'Ya' 'Tidak' 'Tidak' 'Ya' 'Ya' 'Tidak' 'Tidak' 'Tidak' 'Ya' 'Tidak'\n",
            " 'Tidak' 'Ya' 'Tidak' 'Ya' 'Tidak' 'Ya' 'Ya' 'Tidak' 'Ya' 'Tidak' 'Ya'\n",
            " 'Tidak' 'Ya' 'Tidak' 'Tidak' 'Ya' 'Tidak' 'Ya' 'Tidak' 'Tidak' 'Tidak'\n",
            " 'Tidak' 'Tidak' 'Ya' 'Ya' 'Tidak' 'Tidak' 'Tidak' 'Tidak' 'Tidak' 'Tidak'\n",
            " 'Tidak' 'Tidak' 'Tidak' 'Ya' 'Tidak' 'Tidak' 'Ya' 'Tidak' 'Tidak' 'Tidak'\n",
            " 'Tidak' 'Tidak' 'Tidak' 'Tidak' 'Tidak' 'Tidak' 'Tidak' 'Tidak' 'Tidak'\n",
            " 'Tidak' 'Tidak' 'Tidak' 'Tidak' 'Tidak' 'Tidak' 'Tidak' 'Tidak' 'Tidak'\n",
            " 'Tidak' 'Tidak' 'Ya' 'Tidak' 'Tidak' 'Tidak' 'Tidak' 'Tidak' 'Tidak' 'Ya'\n",
            " 'Tidak' 'Tidak' 'Ya' 'Tidak' 'Tidak' 'Tidak' 'Ya' 'Tidak' 'Tidak' 'Tidak'\n",
            " 'Tidak' 'Tidak' 'Tidak' 'Tidak' 'Tidak' 'Tidak' 'Tidak' 'Ya' 'Ya' 'Ya'\n",
            " 'Ya' 'Tidak' 'Ya' 'Tidak' 'Tidak' 'Tidak' 'Ya' 'Tidak' 'Tidak' 'Tidak'\n",
            " 'Tidak' 'Tidak' 'Tidak' 'Tidak' 'Tidak' 'Ya' 'Tidak' 'Ya' 'Tidak' 'Tidak'\n",
            " 'Tidak' 'Tidak' 'Tidak' 'Tidak' 'Tidak' 'Tidak' 'Ya' 'Tidak' 'Tidak' 'Ya'\n",
            " 'Tidak' 'Ya' 'Tidak' 'Tidak' 'Tidak' 'Ya' 'Ya' 'Ya' 'Tidak' 'Tidak'\n",
            " 'Tidak' 'Tidak' 'Tidak' 'Tidak' 'Tidak' 'Tidak' 'Tidak' 'Tidak' 'Ya'\n",
            " 'Tidak' 'Ya' 'Tidak' 'Tidak' 'Tidak' 'Tidak' 'Ya' 'Tidak' 'Tidak' 'Tidak'\n",
            " 'Tidak' 'Tidak' 'Tidak' 'Tidak' 'Ya' 'Tidak' 'Tidak' 'Tidak' 'Tidak'\n",
            " 'Tidak' 'Tidak' 'Tidak' 'Ya' 'Tidak' 'Ya' 'Ya' 'Tidak' 'Tidak' 'Tidak'\n",
            " 'Tidak' 'Tidak' 'Tidak' 'Tidak' 'Tidak' 'Tidak' 'Tidak' 'Tidak' 'Ya'\n",
            " 'Tidak' 'Tidak' 'Tidak' 'Ya' 'Tidak' 'Tidak' 'Tidak' 'Ya' 'Tidak' 'Tidak'\n",
            " 'Tidak' 'Ya' 'Tidak' 'Tidak' 'Ya' 'Ya' 'Tidak' 'Ya' 'Ya' 'Tidak' 'Tidak'\n",
            " 'Ya' 'Tidak' 'Ya' 'Ya' 'Ya' 'Tidak' 'Ya' 'Ya' 'Tidak' 'Tidak' 'Tidak'\n",
            " 'Tidak' 'Ya' 'Tidak' 'Tidak' 'Tidak' 'Tidak' 'Tidak' 'Ya' 'Tidak' 'Ya'\n",
            " 'Tidak' 'Tidak' 'Tidak' 'Tidak' 'Tidak' 'Tidak' 'Tidak' 'Tidak' 'Tidak'\n",
            " 'Tidak' 'Tidak' 'Tidak' 'Tidak' 'Tidak' 'Ya' 'Tidak' 'Tidak' 'Tidak'\n",
            " 'Tidak' 'Ya' 'Tidak' 'Tidak' 'Tidak' 'Tidak' 'Ya' 'Ya' 'Tidak' 'Tidak'\n",
            " 'Tidak' 'Ya' 'Tidak' 'Tidak' 'Tidak' 'Ya' 'Tidak' 'Tidak' 'Tidak' 'Tidak'\n",
            " 'Tidak' 'Tidak' 'Tidak' 'Ya' 'Tidak' 'Ya' 'Tidak' 'Tidak' 'Tidak' 'Tidak'\n",
            " 'Ya' 'Tidak' 'Tidak' 'Ya' 'Tidak' 'Ya' 'Tidak' 'Tidak' 'Ya' 'Tidak' 'Ya'\n",
            " 'Ya' 'Ya' 'Tidak' 'Tidak' 'Tidak' 'Ya' 'Ya' 'Tidak' 'Tidak' 'Tidak' 'Ya'\n",
            " 'Tidak' 'Tidak' 'Tidak' 'Tidak' 'Ya' 'Tidak' 'Tidak' 'Tidak' 'Tidak'\n",
            " 'Tidak' 'Tidak' 'Tidak' 'Tidak' 'Tidak' 'Tidak' 'Tidak' 'Ya' 'Tidak'\n",
            " 'Tidak' 'Ya' 'Tidak' 'Tidak' 'Tidak' 'Tidak' 'Tidak' 'Tidak' 'Tidak'\n",
            " 'Tidak' 'Tidak' 'Tidak' 'Tidak' 'Ya' 'Tidak' 'Ya' 'Tidak' 'Tidak' 'Tidak'\n",
            " 'Tidak' 'Tidak' 'Tidak' 'Ya' 'Ya' 'Tidak' 'Tidak' 'Ya' 'Tidak' 'Tidak'\n",
            " 'Ya' 'Tidak' 'Tidak' 'Ya' 'Tidak' 'Tidak' 'Tidak' 'Tidak' 'Tidak' 'Tidak'\n",
            " 'Ya' 'Tidak' 'Tidak' 'Ya' 'Tidak' 'Tidak' 'Tidak' 'Tidak' 'Tidak' 'Tidak'\n",
            " 'Tidak' 'Tidak' 'Tidak' 'Tidak' 'Tidak' 'Tidak' 'Tidak' 'Tidak' 'Ya'\n",
            " 'Tidak' 'Tidak' 'Ya' 'Tidak' 'Tidak' 'Tidak' 'Ya' 'Tidak' 'Tidak' 'Ya'\n",
            " 'Tidak' 'Tidak' 'Tidak' 'Tidak' 'Tidak' 'Tidak' 'Ya' 'Ya' 'Tidak' 'Tidak'\n",
            " 'Tidak' 'Ya' 'Ya' 'Tidak' 'Tidak' 'Tidak' 'Tidak' 'Tidak' 'Ya' 'Tidak'\n",
            " 'Tidak' 'Tidak' 'Tidak' 'Ya' 'Ya' 'Tidak' 'Tidak' 'Ya' 'Ya' 'Ya' 'Tidak'\n",
            " 'Ya' 'Tidak' 'Tidak' 'Tidak' 'Ya' 'Tidak' 'Ya' 'Tidak' 'Tidak' 'Tidak'\n",
            " 'Tidak' 'Tidak' 'Tidak' 'Tidak' 'Tidak' 'Tidak' 'Tidak' 'Tidak' 'Tidak'\n",
            " 'Tidak' 'Tidak' 'Tidak' 'Tidak' 'Ya' 'Tidak' 'Tidak' 'Tidak' 'Tidak'\n",
            " 'Tidak' 'Ya' 'Tidak' 'Ya' 'Ya' 'Tidak' 'Tidak' 'Tidak' 'Tidak' 'Ya'\n",
            " 'Tidak' 'Tidak' 'Tidak' 'Tidak' 'Tidak' 'Tidak' 'Ya' 'Tidak' 'Tidak' 'Ya'\n",
            " 'Ya' 'Tidak' 'Tidak' 'Ya' 'Tidak' 'Tidak' 'Tidak' 'Tidak' 'Tidak' 'Tidak'\n",
            " 'Tidak' 'Tidak' 'Tidak' 'Ya' 'Tidak' 'Tidak' 'Tidak' 'Tidak' 'Ya' 'Tidak'\n",
            " 'Tidak' 'Tidak' 'Tidak' 'Tidak' 'Tidak' 'Tidak' 'Ya' 'Tidak' 'Tidak'\n",
            " 'Tidak' 'Tidak' 'Tidak' 'Tidak' 'Tidak' 'Tidak' 'Tidak' 'Ya' 'Ya' 'Tidak'\n",
            " 'Tidak' 'Ya' 'Tidak' 'Tidak' 'Tidak' 'Tidak' 'Tidak' 'Tidak' 'Ya' 'Tidak'\n",
            " 'Tidak' 'Tidak' 'Tidak' 'Tidak' 'Ya' 'Tidak' 'Tidak' 'Tidak' 'Ya' 'Tidak'\n",
            " 'Tidak' 'Ya' 'Tidak' 'Tidak' 'Tidak' 'Tidak' 'Tidak' 'Tidak' 'Tidak'\n",
            " 'Tidak' 'Tidak' 'Ya' 'Ya' 'Tidak' 'Tidak' 'Tidak' 'Tidak' 'Tidak' 'Ya'\n",
            " 'Tidak' 'Tidak' 'Tidak' 'Tidak' 'Tidak' 'Tidak' 'Ya' 'Tidak' 'Tidak'\n",
            " 'Tidak' 'Ya' 'Tidak' 'Ya' 'Tidak' 'Tidak' 'Ya' 'Tidak' 'Ya' 'Tidak'\n",
            " 'Tidak' 'Ya' 'Ya' 'Tidak' 'Ya' 'Ya' 'Tidak' 'Tidak' 'Tidak' 'Ya' 'Tidak'\n",
            " 'Ya' 'Ya' 'Tidak' 'Tidak' 'Ya' 'Tidak' 'Tidak' 'Tidak' 'Tidak' 'Tidak'\n",
            " 'Ya' 'Ya' 'Tidak' 'Tidak' 'Tidak' 'Tidak' 'Tidak' 'Tidak' 'Tidak' 'Tidak'\n",
            " 'Tidak' 'Ya' 'Tidak' 'Ya' 'Tidak' 'Tidak' 'Tidak' 'Tidak' 'Tidak' 'Tidak'\n",
            " 'Tidak' 'Tidak' 'Tidak' 'Tidak' 'Tidak' 'Ya' 'Tidak' 'Tidak' 'Tidak' 'Ya'\n",
            " 'Tidak' 'Tidak' 'Tidak' 'Tidak' 'Tidak' 'Tidak' 'Tidak' 'Tidak' 'Tidak'\n",
            " 'Tidak' 'Ya' 'Ya' 'Tidak' 'Tidak' 'Ya' 'Tidak' 'Tidak' 'Tidak' 'Tidak'\n",
            " 'Ya' 'Tidak' 'Tidak' 'Tidak' 'Ya' 'Tidak' 'Tidak' 'Tidak' 'Ya' 'Tidak'\n",
            " 'Tidak' 'Tidak' 'Tidak' 'Tidak' 'Tidak' 'Ya' 'Tidak' 'Ya' 'Tidak' 'Tidak'\n",
            " 'Tidak' 'Ya' 'Tidak' 'Tidak' 'Ya' 'Ya' 'Ya' 'Tidak' 'Tidak' 'Tidak' 'Ya'\n",
            " 'Tidak' 'Tidak' 'Tidak' 'Tidak' 'Ya' 'Ya' 'Ya' 'Tidak' 'Ya' 'Tidak'\n",
            " 'Tidak' 'Tidak' 'Tidak' 'Tidak' 'Tidak' 'Ya' 'Tidak' 'Tidak' 'Tidak'\n",
            " 'Tidak' 'Tidak' 'Tidak' 'Tidak' 'Tidak' 'Ya' 'Tidak' 'Tidak' 'Tidak'\n",
            " 'Tidak' 'Tidak' 'Ya' 'Tidak' 'Tidak' 'Tidak' 'Ya' 'Tidak' 'Tidak' 'Tidak'\n",
            " 'Tidak' 'Ya' 'Tidak' 'Tidak' 'Tidak' 'Tidak' 'Ya' 'Tidak' 'Tidak' 'Tidak'\n",
            " 'Tidak' 'Tidak' 'Tidak' 'Ya' 'Tidak' 'Tidak' 'Tidak' 'Tidak' 'Tidak'\n",
            " 'Tidak' 'Tidak' 'Tidak' 'Tidak' 'Ya' 'Tidak' 'Ya' 'Tidak' 'Tidak' 'Tidak'\n",
            " 'Tidak' 'Tidak' 'Ya' 'Tidak' 'Tidak' 'Ya' 'Tidak' 'Tidak' 'Tidak' 'Ya'\n",
            " 'Tidak' 'Ya' 'Ya' 'Tidak' 'Tidak' 'Tidak' 'Ya' 'Tidak' 'Tidak' 'Tidak'\n",
            " 'Tidak' 'Ya' 'Tidak' 'Tidak' 'Ya' 'Ya' 'Ya' 'Ya' 'Tidak' 'Tidak' 'Ya'\n",
            " 'Ya' 'Tidak' 'Tidak' 'Tidak' 'Tidak' 'Tidak' 'Tidak' 'Ya' 'Tidak' 'Tidak'\n",
            " 'Tidak' 'Tidak' 'Tidak' 'Ya' 'Tidak' 'Ya' 'Ya' 'Tidak' 'Tidak' 'Tidak'\n",
            " 'Tidak' 'Ya' 'Ya' 'Tidak' 'Tidak' 'Tidak' 'Tidak' 'Tidak' 'Tidak' 'Ya'\n",
            " 'Tidak' 'Tidak' 'Tidak' 'Tidak' 'Tidak' 'Tidak' 'Ya' 'Tidak' 'Ya' 'Tidak'\n",
            " 'Ya' 'Ya' 'Tidak' 'Tidak' 'Ya' 'Ya' 'Tidak' 'Tidak' 'Tidak' 'Ya' 'Tidak'\n",
            " 'Ya' 'Ya' 'Tidak' 'Tidak' 'Tidak' 'Tidak' 'Tidak' 'Tidak' 'Tidak' 'Tidak'\n",
            " 'Tidak' 'Tidak' 'Tidak' 'Tidak' 'Tidak' 'Tidak' 'Tidak' 'Ya' 'Tidak'\n",
            " 'Tidak' 'Ya' 'Tidak' 'Tidak' 'Tidak' 'Tidak' 'Tidak' 'Ya' 'Tidak' 'Ya'\n",
            " 'Ya' 'Ya' 'Tidak' 'Tidak' 'Ya' 'Ya' 'Tidak' 'Ya' 'Ya' 'Ya' 'Tidak'\n",
            " 'Tidak' 'Tidak' 'Tidak' 'Tidak' 'Tidak' 'Tidak' 'Tidak' 'Tidak' 'Ya'\n",
            " 'Tidak' 'Tidak' 'Tidak' 'Tidak' 'Tidak' 'Ya' 'Tidak' 'Tidak' 'Tidak'\n",
            " 'Tidak' 'Tidak' 'Ya' 'Tidak' 'Ya' 'Tidak' 'Tidak' 'Tidak' 'Tidak' 'Tidak'\n",
            " 'Tidak' 'Tidak' 'Tidak' 'Tidak' 'Tidak' 'Ya' 'Tidak' 'Tidak' 'Tidak' 'Ya'\n",
            " 'Tidak' 'Tidak' 'Tidak' 'Tidak' 'Tidak' 'Tidak' 'Ya' 'Tidak' 'Tidak' 'Ya'\n",
            " 'Tidak' 'Ya' 'Tidak' 'Tidak' 'Tidak' 'Ya' 'Ya' 'Tidak' 'Tidak' 'Tidak'\n",
            " 'Tidak' 'Ya' 'Tidak' 'Tidak' 'Tidak' 'Tidak' 'Tidak' 'Tidak' 'Ya' 'Tidak'\n",
            " 'Tidak' 'Ya' 'Tidak' 'Ya' 'Tidak' 'Tidak' 'Tidak' 'Ya' 'Tidak' 'Tidak'\n",
            " 'Tidak' 'Tidak' 'Ya' 'Tidak' 'Tidak' 'Tidak' 'Ya' 'Ya' 'Ya' 'Tidak'\n",
            " 'Tidak' 'Tidak' 'Tidak' 'Tidak' 'Tidak' 'Tidak' 'Ya' 'Tidak' 'Tidak' 'Ya'\n",
            " 'Tidak' 'Tidak' 'Tidak' 'Tidak' 'Tidak' 'Tidak' 'Tidak' 'Tidak' 'Tidak'\n",
            " 'Tidak' 'Tidak' 'Tidak' 'Tidak' 'Ya' 'Ya' 'Ya' 'Tidak' 'Ya' 'Ya' 'Tidak'\n",
            " 'Tidak' 'Tidak' 'Ya' 'Tidak' 'Tidak' 'Tidak' 'Tidak' 'Tidak' 'Ya' 'Ya'\n",
            " 'Ya' 'Tidak']\n"
          ]
        }
      ]
    },
    {
      "cell_type": "markdown",
      "source": [
        "Menghilangkan Missing Value"
      ],
      "metadata": {
        "id": "F_byMmxctQJR"
      }
    },
    {
      "cell_type": "code",
      "source": [
        "from sklearn.impute import SimpleImputer\n",
        "num_imputer = SimpleImputer(missing_values=np.nan, strategy='mean')\n",
        "cat_imputer = SimpleImputer(missing_values=np.nan, strategy='most_frequent')\n",
        "x[:, 1:2] = num_imputer.fit_transform(x[:, 1:2])\n",
        "x[:, 2:3] = cat_imputer.fit_transform(x[:, 2:3])"
      ],
      "metadata": {
        "id": "kBu2OeyRcgur"
      },
      "execution_count": 5,
      "outputs": []
    },
    {
      "cell_type": "code",
      "source": [
        "print(x)"
      ],
      "metadata": {
        "colab": {
          "base_uri": "https://localhost:8080/"
        },
        "id": "n5N35H9Ujhl2",
        "outputId": "38cf27cf-8a62-4a20-80a3-83421d4093a3"
      },
      "execution_count": 6,
      "outputs": [
        {
          "output_type": "stream",
          "name": "stdout",
          "text": [
            "[[1 56.0 'Pria' ... 'No' 'One year' 'Credit card (automatic)']\n",
            " [2 69.0 'Pria' ... 'Fiber optic' 'One year' 'Electronic check']\n",
            " [3 46.0 'Pria' ... 'Fiber optic' 'One year' 'Bank transfer (automatic)']\n",
            " ...\n",
            " [998 62.0 'Wanita' ... 'DSL' 'One year' 'Bank transfer (automatic)']\n",
            " [999 35.0 'Pria' ... 'DSL' 'Month-to-month' 'Bank transfer (automatic)']\n",
            " [1000 55.0 'Pria' ... 'No' 'One year' 'Mailed check']]\n"
          ]
        }
      ]
    },
    {
      "cell_type": "markdown",
      "source": [
        "Encoding Data Kategori (Atribut)"
      ],
      "metadata": {
        "id": "92DWAHM9jqDc"
      }
    },
    {
      "cell_type": "code",
      "source": [
        "from sklearn.compose import ColumnTransformer\n",
        "from sklearn.preprocessing import OneHotEncoder, LabelEncoder\n",
        "from sklearn.impute import SimpleImputer\n",
        "\n",
        "x = pd.DataFrame(x)\n",
        "label_encoder = LabelEncoder()\n",
        "x.iloc[:, 0] = label_encoder.fit_transform(x.iloc[:, 0])\n",
        "\n",
        "categorical_features = [0]\n",
        "\n",
        "ct = ColumnTransformer(\n",
        "    transformers=[\n",
        "        ('encoder', OneHotEncoder(sparse_output=False, handle_unknown='ignore'), categorical_features), # Set sparse_output=False to get a dense output\n",
        "    ],\n",
        "    remainder='passthrough'\n",
        ")\n",
        "x = ct.fit_transform(x)"
      ],
      "metadata": {
        "id": "vVU0kgD8j1qB"
      },
      "execution_count": 7,
      "outputs": []
    },
    {
      "cell_type": "code",
      "source": [
        "print(x)"
      ],
      "metadata": {
        "colab": {
          "base_uri": "https://localhost:8080/"
        },
        "id": "x_6BUc_Xw0KO",
        "outputId": "60e140e8-45b5-4802-9934-a1d35e575c28"
      },
      "execution_count": 8,
      "outputs": [
        {
          "output_type": "stream",
          "name": "stdout",
          "text": [
            "[[1.0 0.0 0.0 ... 'No' 'One year' 'Credit card (automatic)']\n",
            " [0.0 1.0 0.0 ... 'Fiber optic' 'One year' 'Electronic check']\n",
            " [0.0 0.0 1.0 ... 'Fiber optic' 'One year' 'Bank transfer (automatic)']\n",
            " ...\n",
            " [0.0 0.0 0.0 ... 'DSL' 'One year' 'Bank transfer (automatic)']\n",
            " [0.0 0.0 0.0 ... 'DSL' 'Month-to-month' 'Bank transfer (automatic)']\n",
            " [0.0 0.0 0.0 ... 'No' 'One year' 'Mailed check']]\n"
          ]
        }
      ]
    },
    {
      "cell_type": "markdown",
      "source": [
        "Encoding Data Kategori (Class/Label)"
      ],
      "metadata": {
        "id": "nelb_n5Uzm1l"
      }
    },
    {
      "cell_type": "code",
      "source": [
        "from sklearn.preprocessing import LabelEncoder\n",
        "le = LabelEncoder()\n",
        "y = le.fit_transform(y)"
      ],
      "metadata": {
        "id": "TpsO-8tIzlyb"
      },
      "execution_count": 9,
      "outputs": []
    },
    {
      "cell_type": "code",
      "source": [
        "print(y)"
      ],
      "metadata": {
        "colab": {
          "base_uri": "https://localhost:8080/"
        },
        "id": "TK3vJCrb620v",
        "outputId": "1c5403f1-f60d-4fee-b881-1be55ede72a3"
      },
      "execution_count": 10,
      "outputs": [
        {
          "output_type": "stream",
          "name": "stdout",
          "text": [
            "[0 0 1 0 0 0 0 1 0 0 0 1 1 1 0 0 0 0 0 0 1 0 0 1 1 0 0 0 1 0 0 1 0 1 0 1 1\n",
            " 0 1 0 1 0 1 0 0 1 0 1 0 0 0 0 0 1 1 0 0 0 0 0 0 0 0 0 1 0 0 1 0 0 0 0 0 0\n",
            " 0 0 0 0 0 0 0 0 0 0 0 0 0 0 0 0 0 1 0 0 0 0 0 0 1 0 0 1 0 0 0 1 0 0 0 0 0\n",
            " 0 0 0 0 0 1 1 1 1 0 1 0 0 0 1 0 0 0 0 0 0 0 0 1 0 1 0 0 0 0 0 0 0 0 1 0 0\n",
            " 1 0 1 0 0 0 1 1 1 0 0 0 0 0 0 0 0 0 0 1 0 1 0 0 0 0 1 0 0 0 0 0 0 0 1 0 0\n",
            " 0 0 0 0 0 1 0 1 1 0 0 0 0 0 0 0 0 0 0 0 1 0 0 0 1 0 0 0 1 0 0 0 1 0 0 1 1\n",
            " 0 1 1 0 0 1 0 1 1 1 0 1 1 0 0 0 0 1 0 0 0 0 0 1 0 1 0 0 0 0 0 0 0 0 0 0 0\n",
            " 0 0 0 1 0 0 0 0 1 0 0 0 0 1 1 0 0 0 1 0 0 0 1 0 0 0 0 0 0 0 1 0 1 0 0 0 0\n",
            " 1 0 0 1 0 1 0 0 1 0 1 1 1 0 0 0 1 1 0 0 0 1 0 0 0 0 1 0 0 0 0 0 0 0 0 0 0\n",
            " 0 1 0 0 1 0 0 0 0 0 0 0 0 0 0 0 1 0 1 0 0 0 0 0 0 1 1 0 0 1 0 0 1 0 0 1 0\n",
            " 0 0 0 0 0 1 0 0 1 0 0 0 0 0 0 0 0 0 0 0 0 0 0 1 0 0 1 0 0 0 1 0 0 1 0 0 0\n",
            " 0 0 0 1 1 0 0 0 1 1 0 0 0 0 0 1 0 0 0 0 1 1 0 0 1 1 1 0 1 0 0 0 1 0 1 0 0\n",
            " 0 0 0 0 0 0 0 0 0 0 0 0 0 0 1 0 0 0 0 0 1 0 1 1 0 0 0 0 1 0 0 0 0 0 0 1 0\n",
            " 0 1 1 0 0 1 0 0 0 0 0 0 0 0 0 1 0 0 0 0 1 0 0 0 0 0 0 0 1 0 0 0 0 0 0 0 0\n",
            " 0 1 1 0 0 1 0 0 0 0 0 0 1 0 0 0 0 0 1 0 0 0 1 0 0 1 0 0 0 0 0 0 0 0 0 1 1\n",
            " 0 0 0 0 0 1 0 0 0 0 0 0 1 0 0 0 1 0 1 0 0 1 0 1 0 0 1 1 0 1 1 0 0 0 1 0 1\n",
            " 1 0 0 1 0 0 0 0 0 1 1 0 0 0 0 0 0 0 0 0 1 0 1 0 0 0 0 0 0 0 0 0 0 0 1 0 0\n",
            " 0 1 0 0 0 0 0 0 0 0 0 0 1 1 0 0 1 0 0 0 0 1 0 0 0 1 0 0 0 1 0 0 0 0 0 0 1\n",
            " 0 1 0 0 0 1 0 0 1 1 1 0 0 0 1 0 0 0 0 1 1 1 0 1 0 0 0 0 0 0 1 0 0 0 0 0 0\n",
            " 0 0 1 0 0 0 0 0 1 0 0 0 1 0 0 0 0 1 0 0 0 0 1 0 0 0 0 0 0 1 0 0 0 0 0 0 0\n",
            " 0 0 1 0 1 0 0 0 0 0 1 0 0 1 0 0 0 1 0 1 1 0 0 0 1 0 0 0 0 1 0 0 1 1 1 1 0\n",
            " 0 1 1 0 0 0 0 0 0 1 0 0 0 0 0 1 0 1 1 0 0 0 0 1 1 0 0 0 0 0 0 1 0 0 0 0 0\n",
            " 0 1 0 1 0 1 1 0 0 1 1 0 0 0 1 0 1 1 0 0 0 0 0 0 0 0 0 0 0 0 0 0 0 1 0 0 1\n",
            " 0 0 0 0 0 1 0 1 1 1 0 0 1 1 0 1 1 1 0 0 0 0 0 0 0 0 0 1 0 0 0 0 0 1 0 0 0\n",
            " 0 0 1 0 1 0 0 0 0 0 0 0 0 0 0 1 0 0 0 1 0 0 0 0 0 0 1 0 0 1 0 1 0 0 0 1 1\n",
            " 0 0 0 0 1 0 0 0 0 0 0 1 0 0 1 0 1 0 0 0 1 0 0 0 0 1 0 0 0 1 1 1 0 0 0 0 0\n",
            " 0 0 1 0 0 1 0 0 0 0 0 0 0 0 0 0 0 0 0 1 1 1 0 1 1 0 0 0 1 0 0 0 0 0 1 1 1\n",
            " 0]\n"
          ]
        }
      ]
    },
    {
      "cell_type": "markdown",
      "source": [
        "Membagi Dataset Ke Dalam Training Set Dan Test Set"
      ],
      "metadata": {
        "id": "K2npGvav6933"
      }
    },
    {
      "cell_type": "code",
      "source": [
        "from sklearn.model_selection import train_test_split\n",
        "x_train, x_test, y_train, y_test = train_test_split(x, y, test_size = 0.2, random_state = 1)"
      ],
      "metadata": {
        "id": "4oy3aaIC7MJt"
      },
      "execution_count": 11,
      "outputs": []
    },
    {
      "cell_type": "code",
      "source": [
        "print(x_train)"
      ],
      "metadata": {
        "colab": {
          "base_uri": "https://localhost:8080/"
        },
        "id": "p2waayKa7rtb",
        "outputId": "4207ba60-5d99-4c91-a74a-22ad814085e5"
      },
      "execution_count": 12,
      "outputs": [
        {
          "output_type": "stream",
          "name": "stdout",
          "text": [
            "[[0.0 0.0 0.0 ... 'Fiber optic' 'Two year' 'Credit card (automatic)']\n",
            " [0.0 0.0 0.0 ... 'DSL' 'Two year' 'Electronic check']\n",
            " [0.0 0.0 0.0 ... 'No' 'One year' 'Bank transfer (automatic)']\n",
            " ...\n",
            " [0.0 0.0 0.0 ... 'DSL' 'Month-to-month' 'Electronic check']\n",
            " [0.0 0.0 0.0 ... 'DSL' 'One year' 'Electronic check']\n",
            " [0.0 0.0 0.0 ... 'DSL' 'Month-to-month' 'Bank transfer (automatic)']]\n"
          ]
        }
      ]
    },
    {
      "cell_type": "code",
      "source": [
        "print(x_test)"
      ],
      "metadata": {
        "colab": {
          "base_uri": "https://localhost:8080/"
        },
        "id": "neAFv-6D7wTM",
        "outputId": "475670ec-be45-4042-c005-f1a330ff9236"
      },
      "execution_count": 13,
      "outputs": [
        {
          "output_type": "stream",
          "name": "stdout",
          "text": [
            "[[0.0 0.0 0.0 ... 'No' 'Month-to-month' 'Bank transfer (automatic)']\n",
            " [0.0 0.0 0.0 ... 'DSL' 'One year' 'Mailed check']\n",
            " [0.0 0.0 0.0 ... 'Fiber optic' 'One year' 'Credit card (automatic)']\n",
            " ...\n",
            " [0.0 0.0 0.0 ... 'Fiber optic' 'Month-to-month' 'Mailed check']\n",
            " [0.0 0.0 0.0 ... 'No' 'Two year' 'Credit card (automatic)']\n",
            " [0.0 0.0 0.0 ... 'No' 'One year' 'Credit card (automatic)']]\n"
          ]
        }
      ]
    },
    {
      "cell_type": "code",
      "source": [
        "print(y_train)"
      ],
      "metadata": {
        "colab": {
          "base_uri": "https://localhost:8080/"
        },
        "id": "ZG-26Mgx71c4",
        "outputId": "be793e5f-ee3e-421e-8281-40149a7d03e9"
      },
      "execution_count": 14,
      "outputs": [
        {
          "output_type": "stream",
          "name": "stdout",
          "text": [
            "[0 0 1 1 0 0 0 0 0 0 1 1 0 0 1 1 0 0 1 0 0 1 1 0 0 0 0 0 0 0 0 0 0 0 0 1 0\n",
            " 1 0 1 0 0 0 0 0 0 1 1 0 1 0 0 0 1 1 1 0 0 0 0 1 0 0 0 1 0 0 0 1 0 0 1 1 0\n",
            " 0 1 1 0 0 0 0 0 0 0 0 0 0 0 1 0 0 0 0 1 0 0 1 0 0 1 0 0 0 0 0 0 0 1 0 1 0\n",
            " 0 0 0 1 1 1 0 1 0 0 1 1 0 0 1 0 0 1 0 0 1 0 0 0 0 1 0 0 0 0 0 0 0 0 1 0 1\n",
            " 1 0 0 0 0 0 0 1 0 0 1 1 0 1 0 0 0 1 0 1 1 0 0 0 0 0 0 1 0 0 0 0 0 0 0 0 0\n",
            " 0 1 0 0 0 0 1 0 0 1 0 1 0 0 0 0 1 1 0 0 0 1 1 0 0 0 1 0 1 0 0 0 0 1 0 0 0\n",
            " 0 1 1 0 0 1 0 1 0 0 0 1 0 0 1 0 0 0 0 0 0 1 0 1 0 0 0 0 1 0 0 0 1 0 0 0 0\n",
            " 0 1 0 0 0 0 1 0 0 0 0 0 1 0 1 1 1 0 0 0 1 1 0 0 0 0 0 0 0 0 1 0 0 0 0 0 0\n",
            " 0 0 0 0 0 0 0 1 1 0 0 0 0 0 0 0 0 1 0 0 0 0 0 1 1 0 1 0 1 0 0 0 1 1 0 1 0\n",
            " 0 0 0 0 0 0 0 0 0 1 1 0 1 1 0 0 1 0 0 0 0 1 0 0 0 0 1 0 1 0 0 1 0 0 0 0 0\n",
            " 0 0 0 0 1 0 1 0 0 0 1 0 0 0 1 0 0 0 1 1 0 0 1 0 0 0 0 0 0 0 1 0 0 1 0 1 1\n",
            " 0 0 0 0 0 0 1 1 1 1 1 0 1 0 0 0 0 0 0 0 0 0 1 0 0 0 0 0 0 1 0 0 0 0 0 0 0\n",
            " 0 1 1 1 1 0 0 0 0 0 0 1 0 0 0 0 0 1 0 0 1 0 0 1 0 0 0 0 1 1 0 0 0 0 0 1 0\n",
            " 0 0 0 0 0 0 0 0 0 0 0 1 0 0 0 0 0 1 0 0 1 0 0 0 0 0 1 1 0 0 0 0 0 0 1 1 0\n",
            " 0 0 0 0 1 1 0 1 0 0 0 0 0 0 1 0 0 1 0 0 0 0 0 0 0 0 1 0 0 1 1 0 0 1 0 0 0\n",
            " 1 0 0 1 0 0 0 0 0 0 0 0 0 1 0 0 0 0 0 0 0 1 0 0 1 0 0 0 0 0 0 1 1 0 0 1 0\n",
            " 1 0 0 0 0 0 1 1 0 0 0 0 0 0 0 0 1 1 0 0 0 1 0 1 0 0 0 1 0 0 1 1 0 0 1 0 0\n",
            " 0 0 0 0 0 0 0 0 1 0 0 0 0 0 0 0 1 0 1 0 0 0 0 0 0 0 0 0 0 0 0 0 0 1 0 0 0\n",
            " 0 0 0 0 0 0 0 0 0 0 0 0 0 1 0 0 0 0 0 0 0 0 0 0 1 0 0 0 0 0 0 0 0 1 0 0 0\n",
            " 0 1 0 1 0 0 0 0 0 0 0 0 1 0 1 0 0 0 0 0 1 0 1 0 0 0 0 1 0 0 0 0 1 0 1 0 1\n",
            " 0 0 0 0 0 0 1 0 0 0 0 1 0 0 0 1 0 0 0 1 1 0 0 1 0 0 1 0 0 0 0 0 0 0 0 1 0\n",
            " 1 0 0 0 0 1 0 0 0 0 0 0 0 0 1 1 1 0 0 0 0 0 0]\n"
          ]
        }
      ]
    },
    {
      "cell_type": "code",
      "source": [
        "print(y_test)"
      ],
      "metadata": {
        "colab": {
          "base_uri": "https://localhost:8080/"
        },
        "id": "Pl9R0Cu-76mW",
        "outputId": "455c059e-c7b3-44ee-be60-68801b90b456"
      },
      "execution_count": 15,
      "outputs": [
        {
          "output_type": "stream",
          "name": "stdout",
          "text": [
            "[0 0 0 1 0 1 1 0 0 0 0 0 0 0 0 0 0 0 0 1 0 1 0 0 1 1 0 0 1 0 0 0 1 0 0 0 0\n",
            " 0 0 1 0 0 0 1 0 0 0 0 0 0 0 0 0 1 1 0 0 0 1 1 1 0 0 0 0 0 1 0 0 0 0 0 0 1\n",
            " 0 0 0 0 0 0 0 1 0 1 0 0 0 0 1 0 1 0 0 1 0 1 0 0 0 1 0 1 0 1 1 1 1 0 0 0 1\n",
            " 0 1 0 1 0 1 0 0 1 0 0 0 0 0 0 0 0 0 0 0 0 0 1 1 1 0 0 1 1 0 1 0 0 0 1 0 0\n",
            " 0 0 0 0 0 1 0 1 1 0 0 0 0 1 1 0 0 0 0 0 0 0 0 0 0 0 1 0 0 0 0 1 0 0 0 0 0\n",
            " 0 0 1 0 1 0 0 1 1 0 0 0 0 0 0]\n"
          ]
        }
      ]
    },
    {
      "cell_type": "markdown",
      "source": [
        "Feature Scaling"
      ],
      "metadata": {
        "id": "mk-bzlaR8D6q"
      }
    },
    {
      "cell_type": "code",
      "source": [
        "from sklearn.preprocessing import StandardScaler, LabelEncoder\n",
        "\n",
        "x_train_df = pd.DataFrame(x_train)\n",
        "x_test_df = pd.DataFrame(x_test)\n",
        "\n",
        "categorical_cols = x_train_df.select_dtypes(include=['object']).columns[x_train_df.select_dtypes(include=['object']).columns >= 3]\n",
        "for col in categorical_cols:\n",
        "    le = LabelEncoder()\n",
        "    all_values = pd.concat([x_train_df[col], x_test_df[col]], ignore_index=True).astype(str).unique()\n",
        "    le.fit(all_values)\n",
        "\n",
        "    x_train_df[col] = le.transform(x_train_df[col].astype(str))\n",
        "    if col in x_test_df:\n",
        "        x_test_df[col] = le.transform(x_test_df[col].astype(str))\n",
        "\n",
        "x_train = x_train_df.to_numpy()\n",
        "x_test = x_test_df.to_numpy()\n",
        "\n",
        "sc = StandardScaler()\n",
        "x_train[:, 3:] = sc.fit_transform(x_train[:, 3:])\n",
        "x_test[:, 3:] = sc.transform(x_test[:, 3:])"
      ],
      "metadata": {
        "id": "8bltYegH8OaJ"
      },
      "execution_count": 16,
      "outputs": []
    },
    {
      "cell_type": "code",
      "source": [
        "print(x_train)"
      ],
      "metadata": {
        "colab": {
          "base_uri": "https://localhost:8080/"
        },
        "id": "2dyfnFPN-1e9",
        "outputId": "c8ad77a1-2e77-4ca7-e8ee-a25863b94caf"
      },
      "execution_count": 17,
      "outputs": [
        {
          "output_type": "stream",
          "name": "stdout",
          "text": [
            "[[0.0 0.0 0.0 ... -0.0015089308185270041 1.1599247571854328\n",
            "  -0.44435058550452666]\n",
            " [0.0 0.0 0.0 ... -1.2086535856401561 1.1599247571854328\n",
            "  0.4421343731079954]\n",
            " [0.0 0.0 0.0 ... 1.205635724003102 -0.07568084301209883\n",
            "  -1.3308355441170487]\n",
            " ...\n",
            " [0.0 0.0 0.0 ... -1.2086535856401561 -1.3112864432096303\n",
            "  0.4421343731079954]\n",
            " [0.0 0.0 0.0 ... -1.2086535856401561 -0.07568084301209883\n",
            "  0.4421343731079954]\n",
            " [0.0 0.0 0.0 ... -1.2086535856401561 -1.3112864432096303\n",
            "  -1.3308355441170487]]\n"
          ]
        }
      ]
    },
    {
      "cell_type": "code",
      "source": [
        "print(x_test)"
      ],
      "metadata": {
        "id": "nP58_THf--Or",
        "outputId": "a56981c0-459b-472b-9312-76810238639c",
        "colab": {
          "base_uri": "https://localhost:8080/"
        }
      },
      "execution_count": 18,
      "outputs": [
        {
          "output_type": "stream",
          "name": "stdout",
          "text": [
            "[[0.0 0.0 0.0 ... 1.205635724003102 -1.3112864432096303\n",
            "  -1.3308355441170487]\n",
            " [0.0 0.0 0.0 ... -1.2086535856401561 -0.07568084301209883\n",
            "  1.3286193317205175]\n",
            " [0.0 0.0 0.0 ... -0.0015089308185270041 -0.07568084301209883\n",
            "  -0.44435058550452666]\n",
            " ...\n",
            " [0.0 0.0 0.0 ... -0.0015089308185270041 -1.3112864432096303\n",
            "  1.3286193317205175]\n",
            " [0.0 0.0 0.0 ... 1.205635724003102 1.1599247571854328\n",
            "  -0.44435058550452666]\n",
            " [0.0 0.0 0.0 ... 1.205635724003102 -0.07568084301209883\n",
            "  -0.44435058550452666]]\n"
          ]
        }
      ]
    }
  ]
}